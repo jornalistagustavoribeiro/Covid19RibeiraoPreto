{
 "cells": [
  {
   "cell_type": "code",
   "execution_count": 1,
   "metadata": {},
   "outputs": [],
   "source": [
    "import pandas as pd\n",
    "import requests\n",
    "import gzip"
   ]
  },
  {
   "cell_type": "markdown",
   "metadata": {},
   "source": [
    "Importo as bibliotecas que utilizarei. Além do pandas, requests para ler o link e gzip para descompactar o arquivo."
   ]
  },
  {
   "cell_type": "code",
   "execution_count": 2,
   "metadata": {},
   "outputs": [],
   "source": [
    "r = requests.get('https://data.brasil.io/dataset/covid19/caso_full.csv.gz')"
   ]
  },
  {
   "cell_type": "markdown",
   "metadata": {},
   "source": [
    "Leio o link e salvo na variavél \"r\""
   ]
  },
  {
   "cell_type": "code",
   "execution_count": 3,
   "metadata": {},
   "outputs": [
    {
     "data": {
      "text/plain": [
       "18004489"
      ]
     },
     "execution_count": 3,
     "metadata": {},
     "output_type": "execute_result"
    }
   ],
   "source": [
    "open('caso_full.csv.gz', 'wb').write(r.content)"
   ]
  },
  {
   "cell_type": "markdown",
   "metadata": {},
   "source": [
    "Crio um arquivo em modo binário (wb) e gravo o conteúdo da variavél \"r\" nele."
   ]
  },
  {
   "cell_type": "code",
   "execution_count": 4,
   "metadata": {},
   "outputs": [],
   "source": [
    "with gzip.open('caso_full.csv.gz') as f:\n",
    "    caso_full = pd.read_csv(f)"
   ]
  },
  {
   "cell_type": "markdown",
   "metadata": {},
   "source": [
    "Com o gzip, abro o arquivo que construí e o chamo de \"f\". Depois, com o pandas, leio o csv e chamo o dataframe de \"caso_full\"."
   ]
  },
  {
   "cell_type": "code",
   "execution_count": 5,
   "metadata": {
    "scrolled": false
   },
   "outputs": [
    {
     "data": {
      "text/html": [
       "<div>\n",
       "<style scoped>\n",
       "    .dataframe tbody tr th:only-of-type {\n",
       "        vertical-align: middle;\n",
       "    }\n",
       "\n",
       "    .dataframe tbody tr th {\n",
       "        vertical-align: top;\n",
       "    }\n",
       "\n",
       "    .dataframe thead th {\n",
       "        text-align: right;\n",
       "    }\n",
       "</style>\n",
       "<table border=\"1\" class=\"dataframe\">\n",
       "  <thead>\n",
       "    <tr style=\"text-align: right;\">\n",
       "      <th></th>\n",
       "      <th>city</th>\n",
       "      <th>city_ibge_code</th>\n",
       "      <th>date</th>\n",
       "      <th>epidemiological_week</th>\n",
       "      <th>estimated_population_2019</th>\n",
       "      <th>is_last</th>\n",
       "      <th>is_repeated</th>\n",
       "      <th>last_available_confirmed</th>\n",
       "      <th>last_available_confirmed_per_100k_inhabitants</th>\n",
       "      <th>last_available_date</th>\n",
       "      <th>last_available_death_rate</th>\n",
       "      <th>last_available_deaths</th>\n",
       "      <th>order_for_place</th>\n",
       "      <th>place_type</th>\n",
       "      <th>state</th>\n",
       "      <th>new_confirmed</th>\n",
       "      <th>new_deaths</th>\n",
       "    </tr>\n",
       "  </thead>\n",
       "  <tbody>\n",
       "    <tr>\n",
       "      <th>25324</th>\n",
       "      <td>Presidente Kennedy</td>\n",
       "      <td>3204302.0</td>\n",
       "      <td>2020-04-22</td>\n",
       "      <td>17</td>\n",
       "      <td>11574.0</td>\n",
       "      <td>False</td>\n",
       "      <td>False</td>\n",
       "      <td>3</td>\n",
       "      <td>25.92017</td>\n",
       "      <td>2020-04-22</td>\n",
       "      <td>0.3333</td>\n",
       "      <td>1</td>\n",
       "      <td>7</td>\n",
       "      <td>city</td>\n",
       "      <td>ES</td>\n",
       "      <td>0</td>\n",
       "      <td>0</td>\n",
       "    </tr>\n",
       "    <tr>\n",
       "      <th>466804</th>\n",
       "      <td>Macarani</td>\n",
       "      <td>2919702.0</td>\n",
       "      <td>2020-08-02</td>\n",
       "      <td>32</td>\n",
       "      <td>18755.0</td>\n",
       "      <td>False</td>\n",
       "      <td>False</td>\n",
       "      <td>150</td>\n",
       "      <td>799.78672</td>\n",
       "      <td>2020-08-02</td>\n",
       "      <td>0.0133</td>\n",
       "      <td>2</td>\n",
       "      <td>69</td>\n",
       "      <td>city</td>\n",
       "      <td>BA</td>\n",
       "      <td>5</td>\n",
       "      <td>0</td>\n",
       "    </tr>\n",
       "    <tr>\n",
       "      <th>392448</th>\n",
       "      <td>São Gonçalo</td>\n",
       "      <td>3304904.0</td>\n",
       "      <td>2020-07-19</td>\n",
       "      <td>30</td>\n",
       "      <td>1084839.0</td>\n",
       "      <td>False</td>\n",
       "      <td>False</td>\n",
       "      <td>6927</td>\n",
       "      <td>638.52793</td>\n",
       "      <td>2020-07-19</td>\n",
       "      <td>0.0795</td>\n",
       "      <td>551</td>\n",
       "      <td>119</td>\n",
       "      <td>city</td>\n",
       "      <td>RJ</td>\n",
       "      <td>294</td>\n",
       "      <td>22</td>\n",
       "    </tr>\n",
       "    <tr>\n",
       "      <th>564882</th>\n",
       "      <td>Rafael Fernandes</td>\n",
       "      <td>2410504.0</td>\n",
       "      <td>2020-08-19</td>\n",
       "      <td>34</td>\n",
       "      <td>5098.0</td>\n",
       "      <td>False</td>\n",
       "      <td>False</td>\n",
       "      <td>17</td>\n",
       "      <td>333.46410</td>\n",
       "      <td>2020-08-19</td>\n",
       "      <td>0.0000</td>\n",
       "      <td>0</td>\n",
       "      <td>53</td>\n",
       "      <td>city</td>\n",
       "      <td>RN</td>\n",
       "      <td>0</td>\n",
       "      <td>0</td>\n",
       "    </tr>\n",
       "    <tr>\n",
       "      <th>654207</th>\n",
       "      <td>Ceará-Mirim</td>\n",
       "      <td>2402600.0</td>\n",
       "      <td>2020-09-04</td>\n",
       "      <td>36</td>\n",
       "      <td>73497.0</td>\n",
       "      <td>False</td>\n",
       "      <td>True</td>\n",
       "      <td>744</td>\n",
       "      <td>1012.28622</td>\n",
       "      <td>2020-08-31</td>\n",
       "      <td>0.0538</td>\n",
       "      <td>40</td>\n",
       "      <td>157</td>\n",
       "      <td>city</td>\n",
       "      <td>RN</td>\n",
       "      <td>0</td>\n",
       "      <td>0</td>\n",
       "    </tr>\n",
       "  </tbody>\n",
       "</table>\n",
       "</div>"
      ],
      "text/plain": [
       "                      city  city_ibge_code        date  epidemiological_week  \\\n",
       "25324   Presidente Kennedy       3204302.0  2020-04-22                    17   \n",
       "466804            Macarani       2919702.0  2020-08-02                    32   \n",
       "392448         São Gonçalo       3304904.0  2020-07-19                    30   \n",
       "564882    Rafael Fernandes       2410504.0  2020-08-19                    34   \n",
       "654207         Ceará-Mirim       2402600.0  2020-09-04                    36   \n",
       "\n",
       "        estimated_population_2019  is_last  is_repeated  \\\n",
       "25324                     11574.0    False        False   \n",
       "466804                    18755.0    False        False   \n",
       "392448                  1084839.0    False        False   \n",
       "564882                     5098.0    False        False   \n",
       "654207                    73497.0    False         True   \n",
       "\n",
       "        last_available_confirmed  \\\n",
       "25324                          3   \n",
       "466804                       150   \n",
       "392448                      6927   \n",
       "564882                        17   \n",
       "654207                       744   \n",
       "\n",
       "        last_available_confirmed_per_100k_inhabitants last_available_date  \\\n",
       "25324                                        25.92017          2020-04-22   \n",
       "466804                                      799.78672          2020-08-02   \n",
       "392448                                      638.52793          2020-07-19   \n",
       "564882                                      333.46410          2020-08-19   \n",
       "654207                                     1012.28622          2020-08-31   \n",
       "\n",
       "        last_available_death_rate  last_available_deaths  order_for_place  \\\n",
       "25324                      0.3333                      1                7   \n",
       "466804                     0.0133                      2               69   \n",
       "392448                     0.0795                    551              119   \n",
       "564882                     0.0000                      0               53   \n",
       "654207                     0.0538                     40              157   \n",
       "\n",
       "       place_type state  new_confirmed  new_deaths  \n",
       "25324        city    ES              0           0  \n",
       "466804       city    BA              5           0  \n",
       "392448       city    RJ            294          22  \n",
       "564882       city    RN              0           0  \n",
       "654207       city    RN              0           0  "
      ]
     },
     "execution_count": 5,
     "metadata": {},
     "output_type": "execute_result"
    }
   ],
   "source": [
    "caso_full.sample(5)"
   ]
  },
  {
   "cell_type": "markdown",
   "metadata": {},
   "source": [
    "Um exemplo para ver se deu certo."
   ]
  },
  {
   "cell_type": "code",
   "execution_count": 6,
   "metadata": {},
   "outputs": [
    {
     "data": {
      "text/plain": [
       "Index(['city', 'city_ibge_code', 'date', 'epidemiological_week',\n",
       "       'estimated_population_2019', 'is_last', 'is_repeated',\n",
       "       'last_available_confirmed',\n",
       "       'last_available_confirmed_per_100k_inhabitants', 'last_available_date',\n",
       "       'last_available_death_rate', 'last_available_deaths', 'order_for_place',\n",
       "       'place_type', 'state', 'new_confirmed', 'new_deaths'],\n",
       "      dtype='object')"
      ]
     },
     "execution_count": 6,
     "metadata": {},
     "output_type": "execute_result"
    }
   ],
   "source": [
    "caso_full.columns"
   ]
  },
  {
   "cell_type": "markdown",
   "metadata": {},
   "source": [
    "Peço para mostrar as colunas."
   ]
  },
  {
   "cell_type": "code",
   "execution_count": 7,
   "metadata": {},
   "outputs": [],
   "source": [
    "caso_full = caso_full[['city', 'date', 'last_available_confirmed', 'last_available_deaths', 'new_confirmed', 'new_deaths']]"
   ]
  },
  {
   "cell_type": "markdown",
   "metadata": {},
   "source": [
    "Guardo somente as colunas que me interessaram..."
   ]
  },
  {
   "cell_type": "code",
   "execution_count": 8,
   "metadata": {},
   "outputs": [],
   "source": [
    "caso_full = caso_full.rename(columns={'city':'Cidade'})\n",
    "caso_full = caso_full.rename(columns={'date':'Data'})\n",
    "caso_full = caso_full.rename(columns={'last_available_confirmed':'Total de casos'})\n",
    "caso_full = caso_full.rename(columns={'last_available_deaths':'Total de mortos'})\n",
    "caso_full = caso_full.rename(columns={'new_confirmed':'Casos no dia'})\n",
    "caso_full = caso_full.rename(columns={'new_deaths':'Mortes no dia'})"
   ]
  },
  {
   "cell_type": "markdown",
   "metadata": {},
   "source": [
    "...e as renomeio."
   ]
  },
  {
   "cell_type": "code",
   "execution_count": 9,
   "metadata": {
    "scrolled": true
   },
   "outputs": [
    {
     "data": {
      "text/html": [
       "<div>\n",
       "<style scoped>\n",
       "    .dataframe tbody tr th:only-of-type {\n",
       "        vertical-align: middle;\n",
       "    }\n",
       "\n",
       "    .dataframe tbody tr th {\n",
       "        vertical-align: top;\n",
       "    }\n",
       "\n",
       "    .dataframe thead th {\n",
       "        text-align: right;\n",
       "    }\n",
       "</style>\n",
       "<table border=\"1\" class=\"dataframe\">\n",
       "  <thead>\n",
       "    <tr style=\"text-align: right;\">\n",
       "      <th></th>\n",
       "      <th>Cidade</th>\n",
       "      <th>Data</th>\n",
       "      <th>Total de casos</th>\n",
       "      <th>Total de mortos</th>\n",
       "      <th>Casos no dia</th>\n",
       "      <th>Mortes no dia</th>\n",
       "    </tr>\n",
       "  </thead>\n",
       "  <tbody>\n",
       "    <tr>\n",
       "      <th>477967</th>\n",
       "      <td>Nova Fátima</td>\n",
       "      <td>2020-08-04</td>\n",
       "      <td>51</td>\n",
       "      <td>1</td>\n",
       "      <td>2</td>\n",
       "      <td>0</td>\n",
       "    </tr>\n",
       "    <tr>\n",
       "      <th>87876</th>\n",
       "      <td>Jataí</td>\n",
       "      <td>2020-05-17</td>\n",
       "      <td>33</td>\n",
       "      <td>0</td>\n",
       "      <td>0</td>\n",
       "      <td>0</td>\n",
       "    </tr>\n",
       "    <tr>\n",
       "      <th>291668</th>\n",
       "      <td>Santa Terezinha de Goiás</td>\n",
       "      <td>2020-07-01</td>\n",
       "      <td>10</td>\n",
       "      <td>0</td>\n",
       "      <td>4</td>\n",
       "      <td>0</td>\n",
       "    </tr>\n",
       "    <tr>\n",
       "      <th>197416</th>\n",
       "      <td>Importados/Indefinidos</td>\n",
       "      <td>2020-06-12</td>\n",
       "      <td>0</td>\n",
       "      <td>0</td>\n",
       "      <td>0</td>\n",
       "      <td>0</td>\n",
       "    </tr>\n",
       "    <tr>\n",
       "      <th>270865</th>\n",
       "      <td>Ferros</td>\n",
       "      <td>2020-06-27</td>\n",
       "      <td>8</td>\n",
       "      <td>0</td>\n",
       "      <td>0</td>\n",
       "      <td>0</td>\n",
       "    </tr>\n",
       "  </tbody>\n",
       "</table>\n",
       "</div>"
      ],
      "text/plain": [
       "                          Cidade        Data  Total de casos  Total de mortos  \\\n",
       "477967               Nova Fátima  2020-08-04              51                1   \n",
       "87876                      Jataí  2020-05-17              33                0   \n",
       "291668  Santa Terezinha de Goiás  2020-07-01              10                0   \n",
       "197416    Importados/Indefinidos  2020-06-12               0                0   \n",
       "270865                    Ferros  2020-06-27               8                0   \n",
       "\n",
       "        Casos no dia  Mortes no dia  \n",
       "477967             2              0  \n",
       "87876              0              0  \n",
       "291668             4              0  \n",
       "197416             0              0  \n",
       "270865             0              0  "
      ]
     },
     "execution_count": 9,
     "metadata": {},
     "output_type": "execute_result"
    }
   ],
   "source": [
    "caso_full.sample(5)"
   ]
  },
  {
   "cell_type": "markdown",
   "metadata": {},
   "source": [
    "Vejo se deu certo."
   ]
  },
  {
   "cell_type": "code",
   "execution_count": 10,
   "metadata": {
    "scrolled": true
   },
   "outputs": [
    {
     "data": {
      "text/plain": [
       "array(['São Paulo', nan, 'Barra Mansa', ..., 'Pinhal da Serra',\n",
       "       'Ubiretama', 'Lagoa Bonita do Sul'], dtype=object)"
      ]
     },
     "execution_count": 10,
     "metadata": {},
     "output_type": "execute_result"
    }
   ],
   "source": [
    "caso_full['Cidade'].unique()"
   ]
  },
  {
   "cell_type": "markdown",
   "metadata": {},
   "source": [
    "Quero pegar somente a minha cidade, então checo antes se há espaço nos nomes."
   ]
  },
  {
   "cell_type": "code",
   "execution_count": 11,
   "metadata": {},
   "outputs": [],
   "source": [
    "caso_full = caso_full[caso_full['Cidade']=='Ribeirão Preto']"
   ]
  },
  {
   "cell_type": "markdown",
   "metadata": {},
   "source": [
    "Filtro por Ribeirão Preto."
   ]
  },
  {
   "cell_type": "code",
   "execution_count": 12,
   "metadata": {},
   "outputs": [],
   "source": [
    "caso_full = caso_full[caso_full['Mortes no dia'] >= 0]"
   ]
  },
  {
   "cell_type": "markdown",
   "metadata": {},
   "source": [
    "Haviam números negativos, então pedi para mostrar apenas os maiores ou iguais a zero."
   ]
  },
  {
   "cell_type": "code",
   "execution_count": 13,
   "metadata": {},
   "outputs": [
    {
     "data": {
      "text/html": [
       "<div>\n",
       "<style scoped>\n",
       "    .dataframe tbody tr th:only-of-type {\n",
       "        vertical-align: middle;\n",
       "    }\n",
       "\n",
       "    .dataframe tbody tr th {\n",
       "        vertical-align: top;\n",
       "    }\n",
       "\n",
       "    .dataframe thead th {\n",
       "        text-align: right;\n",
       "    }\n",
       "</style>\n",
       "<table border=\"1\" class=\"dataframe\">\n",
       "  <thead>\n",
       "    <tr style=\"text-align: right;\">\n",
       "      <th></th>\n",
       "      <th>Cidade</th>\n",
       "      <th>Data</th>\n",
       "      <th>Total de casos</th>\n",
       "      <th>Total de mortos</th>\n",
       "      <th>Casos no dia</th>\n",
       "      <th>Mortes no dia</th>\n",
       "    </tr>\n",
       "  </thead>\n",
       "  <tbody>\n",
       "    <tr>\n",
       "      <th>77080</th>\n",
       "      <td>Ribeirão Preto</td>\n",
       "      <td>2020-05-13</td>\n",
       "      <td>333</td>\n",
       "      <td>11</td>\n",
       "      <td>20</td>\n",
       "      <td>1</td>\n",
       "    </tr>\n",
       "    <tr>\n",
       "      <th>510559</th>\n",
       "      <td>Ribeirão Preto</td>\n",
       "      <td>2020-08-09</td>\n",
       "      <td>12933</td>\n",
       "      <td>438</td>\n",
       "      <td>209</td>\n",
       "      <td>3</td>\n",
       "    </tr>\n",
       "    <tr>\n",
       "      <th>333537</th>\n",
       "      <td>Ribeirão Preto</td>\n",
       "      <td>2020-07-08</td>\n",
       "      <td>5706</td>\n",
       "      <td>208</td>\n",
       "      <td>244</td>\n",
       "      <td>12</td>\n",
       "    </tr>\n",
       "    <tr>\n",
       "      <th>104647</th>\n",
       "      <td>Ribeirão Preto</td>\n",
       "      <td>2020-05-21</td>\n",
       "      <td>575</td>\n",
       "      <td>17</td>\n",
       "      <td>63</td>\n",
       "      <td>2</td>\n",
       "    </tr>\n",
       "    <tr>\n",
       "      <th>16432</th>\n",
       "      <td>Ribeirão Preto</td>\n",
       "      <td>2020-04-15</td>\n",
       "      <td>65</td>\n",
       "      <td>5</td>\n",
       "      <td>12</td>\n",
       "      <td>1</td>\n",
       "    </tr>\n",
       "  </tbody>\n",
       "</table>\n",
       "</div>"
      ],
      "text/plain": [
       "                Cidade        Data  Total de casos  Total de mortos  \\\n",
       "77080   Ribeirão Preto  2020-05-13             333               11   \n",
       "510559  Ribeirão Preto  2020-08-09           12933              438   \n",
       "333537  Ribeirão Preto  2020-07-08            5706              208   \n",
       "104647  Ribeirão Preto  2020-05-21             575               17   \n",
       "16432   Ribeirão Preto  2020-04-15              65                5   \n",
       "\n",
       "        Casos no dia  Mortes no dia  \n",
       "77080             20              1  \n",
       "510559           209              3  \n",
       "333537           244             12  \n",
       "104647            63              2  \n",
       "16432             12              1  "
      ]
     },
     "execution_count": 13,
     "metadata": {},
     "output_type": "execute_result"
    }
   ],
   "source": [
    "caso_full.sample(5)"
   ]
  },
  {
   "cell_type": "markdown",
   "metadata": {},
   "source": [
    "Ficou bom."
   ]
  },
  {
   "cell_type": "code",
   "execution_count": 14,
   "metadata": {},
   "outputs": [],
   "source": [
    "caso_full.to_csv('covid.csv', encoding='utf8', index=False)"
   ]
  },
  {
   "cell_type": "markdown",
   "metadata": {},
   "source": [
    "Exporto e salvo."
   ]
  }
 ],
 "metadata": {
  "kernelspec": {
   "display_name": "Python 3",
   "language": "python",
   "name": "python3"
  },
  "language_info": {
   "codemirror_mode": {
    "name": "ipython",
    "version": 3
   },
   "file_extension": ".py",
   "mimetype": "text/x-python",
   "name": "python",
   "nbconvert_exporter": "python",
   "pygments_lexer": "ipython3",
   "version": "3.8.5"
  }
 },
 "nbformat": 4,
 "nbformat_minor": 4
}
